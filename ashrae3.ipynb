{
 "cells": [
  {
   "cell_type": "code",
   "execution_count": 1,
   "metadata": {},
   "outputs": [],
   "source": [
    "# Libraries\n",
    "import numpy as np\n",
    "import pandas as pd\n",
    "from pandas.api.types import is_numeric_dtype\n",
    "import matplotlib.pyplot as plt\n",
    "import seaborn as sns"
   ]
  },
  {
   "cell_type": "code",
   "execution_count": null,
   "metadata": {},
   "outputs": [],
   "source": [
    "# Train data\n",
    "train = pd.read_csv(\"data_files/train.csv\", header = 0)\n",
    "train.info()"
   ]
  },
  {
   "cell_type": "code",
   "execution_count": null,
   "metadata": {},
   "outputs": [],
   "source": [
    "# Building meta data\n",
    "building = pd.read_csv(\"data_files/building_metadata.csv\")\n",
    "building.info()"
   ]
  },
  {
   "cell_type": "code",
   "execution_count": null,
   "metadata": {},
   "outputs": [],
   "source": [
    "# Weather train data\n",
    "weather_train = pd.read_csv(\"data_files/weather_train.csv\")\n",
    "weather_train.info()"
   ]
  },
  {
   "cell_type": "code",
   "execution_count": null,
   "metadata": {},
   "outputs": [],
   "source": [
    "# Weather test data\n",
    "weather_train = pd.read_csv(\"data_files/weather_test.csv\")\n",
    "weather_train.info()"
   ]
  },
  {
   "cell_type": "code",
   "execution_count": 2,
   "metadata": {},
   "outputs": [],
   "source": [
    "def memory_reduction(df):\n",
    "    itypes = [np.int8, np. int16, np.int32, np.int64] \n",
    "    ftypes = [np.float16, np.float32, np.float64]\n",
    "    iinfo = [np.iinfo(t) for t in itypes]\n",
    "    finfo = [np.finfo(t) for t in ftypes]\n",
    "    for col in df:\n",
    "        if is_numeric_dtype(df[col]):\n",
    "            col_max = df[col].max()\n",
    "            col_min = df[col].min()\n",
    "            if np.issubdtype(df[col].dtype, np.integer):\n",
    "                for ii in iinfo:\n",
    "                    if col_min >= ii.min and col_max <= ii.max:\n",
    "                        df[col] = df[col].astype(ii.dtype)\n",
    "                        break\n",
    "            else:\n",
    "                for fi in finfo:\n",
    "                    if col_min >= fi.min and col_max <= fi.max:\n",
    "                        df[col] = df[col].astype(fi.dtype)\n",
    "                        break\n",
    "    return df"
   ]
  },
  {
   "cell_type": "code",
   "execution_count": 3,
   "metadata": {},
   "outputs": [],
   "source": [
    "def load_data(base, task):\n",
    "    train = memory_reduction(pd.read_csv(f\"{base}/{task}.csv\", parse_dates = ['timestamp']))\n",
    "    building = memory_reduction(pd.read_csv(f\"{base}/building_metadata.csv\"))\n",
    "    weather = memory_reduction(pd.read_csv(f\"{base}/weather_{task}.csv\", parse_dates = ['timestamp']))\n",
    "    return train.merge(building.merge(weather, on = \"site_id\", how = \"left\"), how = \"left\", on = [\"building_id\", \"timestamp\"])"
   ]
  },
  {
   "cell_type": "code",
   "execution_count": 4,
   "metadata": {},
   "outputs": [
    {
     "name": "stdout",
     "output_type": "stream",
     "text": [
      "<class 'pandas.core.frame.DataFrame'>\n",
      "Int64Index: 20216100 entries, 0 to 20216099\n",
      "Data columns (total 16 columns):\n",
      "building_id           int16\n",
      "meter                 int8\n",
      "timestamp             datetime64[ns]\n",
      "meter_reading         float32\n",
      "site_id               float64\n",
      "primary_use           object\n",
      "square_feet           float64\n",
      "year_built            float16\n",
      "floor_count           float16\n",
      "air_temperature       float16\n",
      "cloud_coverage        float16\n",
      "dew_temperature       float16\n",
      "precip_depth_1_hr     float16\n",
      "sea_level_pressure    float16\n",
      "wind_direction        float16\n",
      "wind_speed            float16\n",
      "dtypes: datetime64[ns](1), float16(9), float32(1), float64(2), int16(1), int8(1), object(1)\n",
      "memory usage: 1.2+ GB\n"
     ]
    }
   ],
   "source": [
    "train = load_data(\"data_files\", \"train\")\n",
    "train.info()"
   ]
  },
  {
   "cell_type": "markdown",
   "metadata": {},
   "source": [
    "## EDA"
   ]
  },
  {
   "cell_type": "code",
   "execution_count": 10,
   "metadata": {},
   "outputs": [
    {
     "data": {
      "text/plain": [
       "count    2.021610e+07\n",
       "mean     1.988706e+03\n",
       "std      1.532159e+05\n",
       "min      0.000000e+00\n",
       "25%      1.830000e+01\n",
       "50%      7.877500e+01\n",
       "75%      2.679840e+02\n",
       "max      2.190470e+07\n",
       "Name: meter_reading, dtype: float64"
      ]
     },
     "execution_count": 10,
     "metadata": {},
     "output_type": "execute_result"
    }
   ],
   "source": [
    "train['meter_reading'].describe()"
   ]
  },
  {
   "cell_type": "code",
   "execution_count": 21,
   "metadata": {},
   "outputs": [
    {
     "data": {
      "text/plain": [
       "<matplotlib.axes._subplots.AxesSubplot at 0x1e70a2a9cf8>"
      ]
     },
     "execution_count": 21,
     "metadata": {},
     "output_type": "execute_result"
    },
    {
     "data": {
      "image/png": "[encoded data removed]",
      "text/plain": [
       "<Figure size 432x288 with 1 Axes>"
      ]
     },
     "metadata": {
      "needs_background": "light"
     },
     "output_type": "display_data"
    }
   ],
   "source": [
    "# Target variable\n",
    "sns.distplot(np.log1p(train['meter_reading']))"
   ]
  },
  {
   "cell_type": "markdown",
   "metadata": {},
   "source": [
    "There seems to be a lot of rows with 0 meter readings. Let's see the proportion of data with 0 meter reading.."
   ]
  },
  {
   "cell_type": "code",
   "execution_count": 24,
   "metadata": {},
   "outputs": [
    {
     "data": {
      "text/plain": [
       "0.09269720668180312"
      ]
     },
     "execution_count": 24,
     "metadata": {},
     "output_type": "execute_result"
    }
   ],
   "source": [
    "train.loc[train.meter_reading == 0, 'meter_reading'].count()/train['meter_reading'].count()"
   ]
  }
 ],
 "metadata": {
  "kernelspec": {
   "display_name": "Python 3",
   "language": "python",
   "name": "python3"
  },
  "language_info": {
   "codemirror_mode": {
    "name": "ipython",
    "version": 3
   },
   "file_extension": ".py",
   "mimetype": "text/x-python",
   "name": "python",
   "nbconvert_exporter": "python",
   "pygments_lexer": "ipython3",
   "version": "3.7.3"
  }
 },
 "nbformat": 4,
 "nbformat_minor": 4
}
